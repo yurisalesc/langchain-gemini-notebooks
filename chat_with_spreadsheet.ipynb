{
  "nbformat": 4,
  "nbformat_minor": 0,
  "metadata": {
    "colab": {
      "provenance": []
    },
    "kernelspec": {
      "name": "python3",
      "display_name": "Python 3"
    },
    "language_info": {
      "name": "python"
    }
  },
  "cells": [
    {
      "cell_type": "code",
      "execution_count": null,
      "metadata": {
        "id": "snDi2GRGBiq_"
      },
      "outputs": [],
      "source": [
        "!pip install -q python-dotenv google-generativeai==0.7.2 pandas==2.1.4 chromadb"
      ]
    },
    {
      "cell_type": "code",
      "source": [
        "!pip install langchain langchain-community langchain-experimental langchain-google-genai"
      ],
      "metadata": {
        "id": "L3_D4RUwKN3I"
      },
      "execution_count": null,
      "outputs": []
    },
    {
      "cell_type": "code",
      "source": [
        "import google.generativeai as genai\n",
        "from google.colab import userdata\n",
        "\n",
        "GOOGLE_API_KEY = userdata.get('GeminiProKey')\n",
        "genai.configure(api_key=GOOGLE_API_KEY)"
      ],
      "metadata": {
        "id": "qUQO5REpLQ2A"
      },
      "execution_count": null,
      "outputs": []
    },
    {
      "cell_type": "code",
      "source": [
        "!echo -e 'GOOGLE_API_KEY={YOUR_KEY}' > .env"
      ],
      "metadata": {
        "id": "LCerQ8nmLhxa"
      },
      "execution_count": null,
      "outputs": []
    },
    {
      "cell_type": "code",
      "source": [
        "from dotenv import load_dotenv\n",
        "load_dotenv()"
      ],
      "metadata": {
        "id": "RoJkSD7eLmFh"
      },
      "execution_count": null,
      "outputs": []
    },
    {
      "cell_type": "code",
      "source": [
        "import pandas as pd\n",
        "\n",
        "df = pd.read_csv('top_albums.csv')\n",
        "df"
      ],
      "metadata": {
        "colab": {
          "base_uri": "https://localhost:8080/",
          "height": 554
        },
        "id": "YkIN5b8sLs1N",
        "outputId": "defdf5d5-22f4-45a1-bfdd-8917b85add1d"
      },
      "execution_count": null,
      "outputs": [
        {
          "output_type": "execute_result",
          "data": {
            "text/plain": [
              "                  Album Name             Artist  Year of Release  \\\n",
              "0                 Abbey Road        The Beatles             1969   \n",
              "1  The Dark Side of the Moon         Pink Floyd             1973   \n",
              "2                   Thriller    Michael Jackson             1982   \n",
              "3                    Rumours      Fleetwood Mac             1977   \n",
              "4                   The Wall         Pink Floyd             1979   \n",
              "5              Back in Black              AC/DC             1980   \n",
              "6           Hotel California             Eagles             1976   \n",
              "7                Born to Run  Bruce Springsteen             1975   \n",
              "8                  Nevermind            Nirvana             1991   \n",
              "9            The Joshua Tree                 U2             1987   \n",
              "\n",
              "              Genre                 Label  Number of Tracks  Sales (millions)  \\\n",
              "0              Rock         Apple Records                17                31   \n",
              "1  Progressive Rock       Harvest Records                10                45   \n",
              "2               Pop          Epic Records                 9                70   \n",
              "3              Rock  Warner Bros. Records                11                40   \n",
              "4              Rock       Harvest Records                26                30   \n",
              "5         Hard Rock      Atlantic Records                10                50   \n",
              "6              Rock        Asylum Records                 9                32   \n",
              "7              Rock      Columbia Records                 8                 6   \n",
              "8            Grunge           DGC Records                12                30   \n",
              "9              Rock        Island Records                11                25   \n",
              "\n",
              "                                          Commentary  \n",
              "0  A timeless classic that showcases The Beatles ...  \n",
              "1  One of the most influential albums of all time...  \n",
              "2  The best-selling album of all time, blending p...  \n",
              "3  An emotionally charged record capturing the ba...  \n",
              "4  A rock opera that explores themes of isolation...  \n",
              "5  A tribute to their former lead singer, it beca...  \n",
              "6  Known for its title track, the album is a defi...  \n",
              "7  Springsteen's breakout album with epic tales o...  \n",
              "8  A defining album of the 1990s that brought gru...  \n",
              "9  A politically charged and spiritually influenc...  "
            ],
            "text/html": [
              "\n",
              "  <div id=\"df-8fc6057a-89ad-400a-a5b3-6c49e19f5d5a\" class=\"colab-df-container\">\n",
              "    <div>\n",
              "<style scoped>\n",
              "    .dataframe tbody tr th:only-of-type {\n",
              "        vertical-align: middle;\n",
              "    }\n",
              "\n",
              "    .dataframe tbody tr th {\n",
              "        vertical-align: top;\n",
              "    }\n",
              "\n",
              "    .dataframe thead th {\n",
              "        text-align: right;\n",
              "    }\n",
              "</style>\n",
              "<table border=\"1\" class=\"dataframe\">\n",
              "  <thead>\n",
              "    <tr style=\"text-align: right;\">\n",
              "      <th></th>\n",
              "      <th>Album Name</th>\n",
              "      <th>Artist</th>\n",
              "      <th>Year of Release</th>\n",
              "      <th>Genre</th>\n",
              "      <th>Label</th>\n",
              "      <th>Number of Tracks</th>\n",
              "      <th>Sales (millions)</th>\n",
              "      <th>Commentary</th>\n",
              "    </tr>\n",
              "  </thead>\n",
              "  <tbody>\n",
              "    <tr>\n",
              "      <th>0</th>\n",
              "      <td>Abbey Road</td>\n",
              "      <td>The Beatles</td>\n",
              "      <td>1969</td>\n",
              "      <td>Rock</td>\n",
              "      <td>Apple Records</td>\n",
              "      <td>17</td>\n",
              "      <td>31</td>\n",
              "      <td>A timeless classic that showcases The Beatles ...</td>\n",
              "    </tr>\n",
              "    <tr>\n",
              "      <th>1</th>\n",
              "      <td>The Dark Side of the Moon</td>\n",
              "      <td>Pink Floyd</td>\n",
              "      <td>1973</td>\n",
              "      <td>Progressive Rock</td>\n",
              "      <td>Harvest Records</td>\n",
              "      <td>10</td>\n",
              "      <td>45</td>\n",
              "      <td>One of the most influential albums of all time...</td>\n",
              "    </tr>\n",
              "    <tr>\n",
              "      <th>2</th>\n",
              "      <td>Thriller</td>\n",
              "      <td>Michael Jackson</td>\n",
              "      <td>1982</td>\n",
              "      <td>Pop</td>\n",
              "      <td>Epic Records</td>\n",
              "      <td>9</td>\n",
              "      <td>70</td>\n",
              "      <td>The best-selling album of all time, blending p...</td>\n",
              "    </tr>\n",
              "    <tr>\n",
              "      <th>3</th>\n",
              "      <td>Rumours</td>\n",
              "      <td>Fleetwood Mac</td>\n",
              "      <td>1977</td>\n",
              "      <td>Rock</td>\n",
              "      <td>Warner Bros. Records</td>\n",
              "      <td>11</td>\n",
              "      <td>40</td>\n",
              "      <td>An emotionally charged record capturing the ba...</td>\n",
              "    </tr>\n",
              "    <tr>\n",
              "      <th>4</th>\n",
              "      <td>The Wall</td>\n",
              "      <td>Pink Floyd</td>\n",
              "      <td>1979</td>\n",
              "      <td>Rock</td>\n",
              "      <td>Harvest Records</td>\n",
              "      <td>26</td>\n",
              "      <td>30</td>\n",
              "      <td>A rock opera that explores themes of isolation...</td>\n",
              "    </tr>\n",
              "    <tr>\n",
              "      <th>5</th>\n",
              "      <td>Back in Black</td>\n",
              "      <td>AC/DC</td>\n",
              "      <td>1980</td>\n",
              "      <td>Hard Rock</td>\n",
              "      <td>Atlantic Records</td>\n",
              "      <td>10</td>\n",
              "      <td>50</td>\n",
              "      <td>A tribute to their former lead singer, it beca...</td>\n",
              "    </tr>\n",
              "    <tr>\n",
              "      <th>6</th>\n",
              "      <td>Hotel California</td>\n",
              "      <td>Eagles</td>\n",
              "      <td>1976</td>\n",
              "      <td>Rock</td>\n",
              "      <td>Asylum Records</td>\n",
              "      <td>9</td>\n",
              "      <td>32</td>\n",
              "      <td>Known for its title track, the album is a defi...</td>\n",
              "    </tr>\n",
              "    <tr>\n",
              "      <th>7</th>\n",
              "      <td>Born to Run</td>\n",
              "      <td>Bruce Springsteen</td>\n",
              "      <td>1975</td>\n",
              "      <td>Rock</td>\n",
              "      <td>Columbia Records</td>\n",
              "      <td>8</td>\n",
              "      <td>6</td>\n",
              "      <td>Springsteen's breakout album with epic tales o...</td>\n",
              "    </tr>\n",
              "    <tr>\n",
              "      <th>8</th>\n",
              "      <td>Nevermind</td>\n",
              "      <td>Nirvana</td>\n",
              "      <td>1991</td>\n",
              "      <td>Grunge</td>\n",
              "      <td>DGC Records</td>\n",
              "      <td>12</td>\n",
              "      <td>30</td>\n",
              "      <td>A defining album of the 1990s that brought gru...</td>\n",
              "    </tr>\n",
              "    <tr>\n",
              "      <th>9</th>\n",
              "      <td>The Joshua Tree</td>\n",
              "      <td>U2</td>\n",
              "      <td>1987</td>\n",
              "      <td>Rock</td>\n",
              "      <td>Island Records</td>\n",
              "      <td>11</td>\n",
              "      <td>25</td>\n",
              "      <td>A politically charged and spiritually influenc...</td>\n",
              "    </tr>\n",
              "  </tbody>\n",
              "</table>\n",
              "</div>\n",
              "    <div class=\"colab-df-buttons\">\n",
              "\n",
              "  <div class=\"colab-df-container\">\n",
              "    <button class=\"colab-df-convert\" onclick=\"convertToInteractive('df-8fc6057a-89ad-400a-a5b3-6c49e19f5d5a')\"\n",
              "            title=\"Convert this dataframe to an interactive table.\"\n",
              "            style=\"display:none;\">\n",
              "\n",
              "  <svg xmlns=\"http://www.w3.org/2000/svg\" height=\"24px\" viewBox=\"0 -960 960 960\">\n",
              "    <path d=\"M120-120v-720h720v720H120Zm60-500h600v-160H180v160Zm220 220h160v-160H400v160Zm0 220h160v-160H400v160ZM180-400h160v-160H180v160Zm440 0h160v-160H620v160ZM180-180h160v-160H180v160Zm440 0h160v-160H620v160Z\"/>\n",
              "  </svg>\n",
              "    </button>\n",
              "\n",
              "  <style>\n",
              "    .colab-df-container {\n",
              "      display:flex;\n",
              "      gap: 12px;\n",
              "    }\n",
              "\n",
              "    .colab-df-convert {\n",
              "      background-color: #E8F0FE;\n",
              "      border: none;\n",
              "      border-radius: 50%;\n",
              "      cursor: pointer;\n",
              "      display: none;\n",
              "      fill: #1967D2;\n",
              "      height: 32px;\n",
              "      padding: 0 0 0 0;\n",
              "      width: 32px;\n",
              "    }\n",
              "\n",
              "    .colab-df-convert:hover {\n",
              "      background-color: #E2EBFA;\n",
              "      box-shadow: 0px 1px 2px rgba(60, 64, 67, 0.3), 0px 1px 3px 1px rgba(60, 64, 67, 0.15);\n",
              "      fill: #174EA6;\n",
              "    }\n",
              "\n",
              "    .colab-df-buttons div {\n",
              "      margin-bottom: 4px;\n",
              "    }\n",
              "\n",
              "    [theme=dark] .colab-df-convert {\n",
              "      background-color: #3B4455;\n",
              "      fill: #D2E3FC;\n",
              "    }\n",
              "\n",
              "    [theme=dark] .colab-df-convert:hover {\n",
              "      background-color: #434B5C;\n",
              "      box-shadow: 0px 1px 3px 1px rgba(0, 0, 0, 0.15);\n",
              "      filter: drop-shadow(0px 1px 2px rgba(0, 0, 0, 0.3));\n",
              "      fill: #FFFFFF;\n",
              "    }\n",
              "  </style>\n",
              "\n",
              "    <script>\n",
              "      const buttonEl =\n",
              "        document.querySelector('#df-8fc6057a-89ad-400a-a5b3-6c49e19f5d5a button.colab-df-convert');\n",
              "      buttonEl.style.display =\n",
              "        google.colab.kernel.accessAllowed ? 'block' : 'none';\n",
              "\n",
              "      async function convertToInteractive(key) {\n",
              "        const element = document.querySelector('#df-8fc6057a-89ad-400a-a5b3-6c49e19f5d5a');\n",
              "        const dataTable =\n",
              "          await google.colab.kernel.invokeFunction('convertToInteractive',\n",
              "                                                    [key], {});\n",
              "        if (!dataTable) return;\n",
              "\n",
              "        const docLinkHtml = 'Like what you see? Visit the ' +\n",
              "          '<a target=\"_blank\" href=https://colab.research.google.com/notebooks/data_table.ipynb>data table notebook</a>'\n",
              "          + ' to learn more about interactive tables.';\n",
              "        element.innerHTML = '';\n",
              "        dataTable['output_type'] = 'display_data';\n",
              "        await google.colab.output.renderOutput(dataTable, element);\n",
              "        const docLink = document.createElement('div');\n",
              "        docLink.innerHTML = docLinkHtml;\n",
              "        element.appendChild(docLink);\n",
              "      }\n",
              "    </script>\n",
              "  </div>\n",
              "\n",
              "\n",
              "<div id=\"df-f649d835-a2b6-4a2e-a220-a61ac4f3d55e\">\n",
              "  <button class=\"colab-df-quickchart\" onclick=\"quickchart('df-f649d835-a2b6-4a2e-a220-a61ac4f3d55e')\"\n",
              "            title=\"Suggest charts\"\n",
              "            style=\"display:none;\">\n",
              "\n",
              "<svg xmlns=\"http://www.w3.org/2000/svg\" height=\"24px\"viewBox=\"0 0 24 24\"\n",
              "     width=\"24px\">\n",
              "    <g>\n",
              "        <path d=\"M19 3H5c-1.1 0-2 .9-2 2v14c0 1.1.9 2 2 2h14c1.1 0 2-.9 2-2V5c0-1.1-.9-2-2-2zM9 17H7v-7h2v7zm4 0h-2V7h2v10zm4 0h-2v-4h2v4z\"/>\n",
              "    </g>\n",
              "</svg>\n",
              "  </button>\n",
              "\n",
              "<style>\n",
              "  .colab-df-quickchart {\n",
              "      --bg-color: #E8F0FE;\n",
              "      --fill-color: #1967D2;\n",
              "      --hover-bg-color: #E2EBFA;\n",
              "      --hover-fill-color: #174EA6;\n",
              "      --disabled-fill-color: #AAA;\n",
              "      --disabled-bg-color: #DDD;\n",
              "  }\n",
              "\n",
              "  [theme=dark] .colab-df-quickchart {\n",
              "      --bg-color: #3B4455;\n",
              "      --fill-color: #D2E3FC;\n",
              "      --hover-bg-color: #434B5C;\n",
              "      --hover-fill-color: #FFFFFF;\n",
              "      --disabled-bg-color: #3B4455;\n",
              "      --disabled-fill-color: #666;\n",
              "  }\n",
              "\n",
              "  .colab-df-quickchart {\n",
              "    background-color: var(--bg-color);\n",
              "    border: none;\n",
              "    border-radius: 50%;\n",
              "    cursor: pointer;\n",
              "    display: none;\n",
              "    fill: var(--fill-color);\n",
              "    height: 32px;\n",
              "    padding: 0;\n",
              "    width: 32px;\n",
              "  }\n",
              "\n",
              "  .colab-df-quickchart:hover {\n",
              "    background-color: var(--hover-bg-color);\n",
              "    box-shadow: 0 1px 2px rgba(60, 64, 67, 0.3), 0 1px 3px 1px rgba(60, 64, 67, 0.15);\n",
              "    fill: var(--button-hover-fill-color);\n",
              "  }\n",
              "\n",
              "  .colab-df-quickchart-complete:disabled,\n",
              "  .colab-df-quickchart-complete:disabled:hover {\n",
              "    background-color: var(--disabled-bg-color);\n",
              "    fill: var(--disabled-fill-color);\n",
              "    box-shadow: none;\n",
              "  }\n",
              "\n",
              "  .colab-df-spinner {\n",
              "    border: 2px solid var(--fill-color);\n",
              "    border-color: transparent;\n",
              "    border-bottom-color: var(--fill-color);\n",
              "    animation:\n",
              "      spin 1s steps(1) infinite;\n",
              "  }\n",
              "\n",
              "  @keyframes spin {\n",
              "    0% {\n",
              "      border-color: transparent;\n",
              "      border-bottom-color: var(--fill-color);\n",
              "      border-left-color: var(--fill-color);\n",
              "    }\n",
              "    20% {\n",
              "      border-color: transparent;\n",
              "      border-left-color: var(--fill-color);\n",
              "      border-top-color: var(--fill-color);\n",
              "    }\n",
              "    30% {\n",
              "      border-color: transparent;\n",
              "      border-left-color: var(--fill-color);\n",
              "      border-top-color: var(--fill-color);\n",
              "      border-right-color: var(--fill-color);\n",
              "    }\n",
              "    40% {\n",
              "      border-color: transparent;\n",
              "      border-right-color: var(--fill-color);\n",
              "      border-top-color: var(--fill-color);\n",
              "    }\n",
              "    60% {\n",
              "      border-color: transparent;\n",
              "      border-right-color: var(--fill-color);\n",
              "    }\n",
              "    80% {\n",
              "      border-color: transparent;\n",
              "      border-right-color: var(--fill-color);\n",
              "      border-bottom-color: var(--fill-color);\n",
              "    }\n",
              "    90% {\n",
              "      border-color: transparent;\n",
              "      border-bottom-color: var(--fill-color);\n",
              "    }\n",
              "  }\n",
              "</style>\n",
              "\n",
              "  <script>\n",
              "    async function quickchart(key) {\n",
              "      const quickchartButtonEl =\n",
              "        document.querySelector('#' + key + ' button');\n",
              "      quickchartButtonEl.disabled = true;  // To prevent multiple clicks.\n",
              "      quickchartButtonEl.classList.add('colab-df-spinner');\n",
              "      try {\n",
              "        const charts = await google.colab.kernel.invokeFunction(\n",
              "            'suggestCharts', [key], {});\n",
              "      } catch (error) {\n",
              "        console.error('Error during call to suggestCharts:', error);\n",
              "      }\n",
              "      quickchartButtonEl.classList.remove('colab-df-spinner');\n",
              "      quickchartButtonEl.classList.add('colab-df-quickchart-complete');\n",
              "    }\n",
              "    (() => {\n",
              "      let quickchartButtonEl =\n",
              "        document.querySelector('#df-f649d835-a2b6-4a2e-a220-a61ac4f3d55e button');\n",
              "      quickchartButtonEl.style.display =\n",
              "        google.colab.kernel.accessAllowed ? 'block' : 'none';\n",
              "    })();\n",
              "  </script>\n",
              "</div>\n",
              "\n",
              "  <div id=\"id_70140c4f-eac0-427c-bf18-57272388a8d1\">\n",
              "    <style>\n",
              "      .colab-df-generate {\n",
              "        background-color: #E8F0FE;\n",
              "        border: none;\n",
              "        border-radius: 50%;\n",
              "        cursor: pointer;\n",
              "        display: none;\n",
              "        fill: #1967D2;\n",
              "        height: 32px;\n",
              "        padding: 0 0 0 0;\n",
              "        width: 32px;\n",
              "      }\n",
              "\n",
              "      .colab-df-generate:hover {\n",
              "        background-color: #E2EBFA;\n",
              "        box-shadow: 0px 1px 2px rgba(60, 64, 67, 0.3), 0px 1px 3px 1px rgba(60, 64, 67, 0.15);\n",
              "        fill: #174EA6;\n",
              "      }\n",
              "\n",
              "      [theme=dark] .colab-df-generate {\n",
              "        background-color: #3B4455;\n",
              "        fill: #D2E3FC;\n",
              "      }\n",
              "\n",
              "      [theme=dark] .colab-df-generate:hover {\n",
              "        background-color: #434B5C;\n",
              "        box-shadow: 0px 1px 3px 1px rgba(0, 0, 0, 0.15);\n",
              "        filter: drop-shadow(0px 1px 2px rgba(0, 0, 0, 0.3));\n",
              "        fill: #FFFFFF;\n",
              "      }\n",
              "    </style>\n",
              "    <button class=\"colab-df-generate\" onclick=\"generateWithVariable('df')\"\n",
              "            title=\"Generate code using this dataframe.\"\n",
              "            style=\"display:none;\">\n",
              "\n",
              "  <svg xmlns=\"http://www.w3.org/2000/svg\" height=\"24px\"viewBox=\"0 0 24 24\"\n",
              "       width=\"24px\">\n",
              "    <path d=\"M7,19H8.4L18.45,9,17,7.55,7,17.6ZM5,21V16.75L18.45,3.32a2,2,0,0,1,2.83,0l1.4,1.43a1.91,1.91,0,0,1,.58,1.4,1.91,1.91,0,0,1-.58,1.4L9.25,21ZM18.45,9,17,7.55Zm-12,3A5.31,5.31,0,0,0,4.9,8.1,5.31,5.31,0,0,0,1,6.5,5.31,5.31,0,0,0,4.9,4.9,5.31,5.31,0,0,0,6.5,1,5.31,5.31,0,0,0,8.1,4.9,5.31,5.31,0,0,0,12,6.5,5.46,5.46,0,0,0,6.5,12Z\"/>\n",
              "  </svg>\n",
              "    </button>\n",
              "    <script>\n",
              "      (() => {\n",
              "      const buttonEl =\n",
              "        document.querySelector('#id_70140c4f-eac0-427c-bf18-57272388a8d1 button.colab-df-generate');\n",
              "      buttonEl.style.display =\n",
              "        google.colab.kernel.accessAllowed ? 'block' : 'none';\n",
              "\n",
              "      buttonEl.onclick = () => {\n",
              "        google.colab.notebook.generateWithVariable('df');\n",
              "      }\n",
              "      })();\n",
              "    </script>\n",
              "  </div>\n",
              "\n",
              "    </div>\n",
              "  </div>\n"
            ],
            "application/vnd.google.colaboratory.intrinsic+json": {
              "type": "dataframe",
              "variable_name": "df",
              "summary": "{\n  \"name\": \"df\",\n  \"rows\": 10,\n  \"fields\": [\n    {\n      \"column\": \"Album Name\",\n      \"properties\": {\n        \"dtype\": \"string\",\n        \"num_unique_values\": 10,\n        \"samples\": [\n          \"Nevermind\",\n          \"The Dark Side of the Moon\",\n          \"Back in Black\"\n        ],\n        \"semantic_type\": \"\",\n        \"description\": \"\"\n      }\n    },\n    {\n      \"column\": \"Artist\",\n      \"properties\": {\n        \"dtype\": \"string\",\n        \"num_unique_values\": 9,\n        \"samples\": [\n          \"Nirvana\",\n          \"Pink Floyd\",\n          \"Eagles\"\n        ],\n        \"semantic_type\": \"\",\n        \"description\": \"\"\n      }\n    },\n    {\n      \"column\": \"Year of Release\",\n      \"properties\": {\n        \"dtype\": \"number\",\n        \"std\": 6,\n        \"min\": 1969,\n        \"max\": 1991,\n        \"num_unique_values\": 10,\n        \"samples\": [\n          1991,\n          1973,\n          1980\n        ],\n        \"semantic_type\": \"\",\n        \"description\": \"\"\n      }\n    },\n    {\n      \"column\": \"Genre\",\n      \"properties\": {\n        \"dtype\": \"string\",\n        \"num_unique_values\": 5,\n        \"samples\": [\n          \"Progressive Rock\",\n          \"Grunge\",\n          \"Pop\"\n        ],\n        \"semantic_type\": \"\",\n        \"description\": \"\"\n      }\n    },\n    {\n      \"column\": \"Label\",\n      \"properties\": {\n        \"dtype\": \"string\",\n        \"num_unique_values\": 9,\n        \"samples\": [\n          \"DGC Records\",\n          \"Harvest Records\",\n          \"Asylum Records\"\n        ],\n        \"semantic_type\": \"\",\n        \"description\": \"\"\n      }\n    },\n    {\n      \"column\": \"Number of Tracks\",\n      \"properties\": {\n        \"dtype\": \"number\",\n        \"std\": 5,\n        \"min\": 8,\n        \"max\": 26,\n        \"num_unique_values\": 7,\n        \"samples\": [\n          17,\n          10,\n          8\n        ],\n        \"semantic_type\": \"\",\n        \"description\": \"\"\n      }\n    },\n    {\n      \"column\": \"Sales (millions)\",\n      \"properties\": {\n        \"dtype\": \"number\",\n        \"std\": 16,\n        \"min\": 6,\n        \"max\": 70,\n        \"num_unique_values\": 9,\n        \"samples\": [\n          6,\n          45,\n          50\n        ],\n        \"semantic_type\": \"\",\n        \"description\": \"\"\n      }\n    },\n    {\n      \"column\": \"Commentary\",\n      \"properties\": {\n        \"dtype\": \"string\",\n        \"num_unique_values\": 10,\n        \"samples\": [\n          \"A defining album of the 1990s that brought grunge to the mainstream.\",\n          \"One of the most influential albums of all time with innovative sound engineering.\",\n          \"A tribute to their former lead singer, it became one of the best-selling albums ever.\"\n        ],\n        \"semantic_type\": \"\",\n        \"description\": \"\"\n      }\n    }\n  ]\n}"
            }
          },
          "metadata": {},
          "execution_count": 6
        }
      ]
    },
    {
      "cell_type": "code",
      "source": [
        "import pprint\n",
        "\n",
        "from langchain_community.document_loaders import CSVLoader\n",
        "\n",
        "loader = CSVLoader('top_albums.csv')\n",
        "data = loader.load_and_split()\n",
        "\n",
        "pprint.pp(data[0].page_content)"
      ],
      "metadata": {
        "colab": {
          "base_uri": "https://localhost:8080/"
        },
        "id": "JlRdh1jhMCCg",
        "outputId": "af4d545f-21c2-4ce9-f03d-76e7f5996865"
      },
      "execution_count": null,
      "outputs": [
        {
          "output_type": "stream",
          "name": "stdout",
          "text": [
            "('Album Name: Abbey Road\\n'\n",
            " 'Artist: The Beatles\\n'\n",
            " 'Year of Release: 1969\\n'\n",
            " 'Genre: Rock\\n'\n",
            " 'Label: Apple Records\\n'\n",
            " 'Number of Tracks: 17\\n'\n",
            " 'Sales (millions): 31\\n'\n",
            " 'Commentary: A timeless classic that showcases The Beatles at their creative '\n",
            " 'peak.')\n"
          ]
        }
      ]
    },
    {
      "cell_type": "code",
      "source": [
        "from langchain.text_splitter import RecursiveCharacterTextSplitter\n",
        "\n",
        "text_splitter = RecursiveCharacterTextSplitter(chunk_size=500, chunk_overlap=100)\n",
        "context = \"\\n\\n\".join(\n",
        "    str(row.page_content) for row in data\n",
        ")\n",
        "print(context)"
      ],
      "metadata": {
        "colab": {
          "base_uri": "https://localhost:8080/"
        },
        "id": "N-9jVDAlM69A",
        "outputId": "1746f72a-8d82-4f7f-c61e-8ef0ffbced42"
      },
      "execution_count": null,
      "outputs": [
        {
          "output_type": "stream",
          "name": "stdout",
          "text": [
            "Album Name: Abbey Road\n",
            "Artist: The Beatles\n",
            "Year of Release: 1969\n",
            "Genre: Rock\n",
            "Label: Apple Records\n",
            "Number of Tracks: 17\n",
            "Sales (millions): 31\n",
            "Commentary: A timeless classic that showcases The Beatles at their creative peak.\n",
            "\n",
            "Album Name: The Dark Side of the Moon\n",
            "Artist: Pink Floyd\n",
            "Year of Release: 1973\n",
            "Genre: Progressive Rock\n",
            "Label: Harvest Records\n",
            "Number of Tracks: 10\n",
            "Sales (millions): 45\n",
            "Commentary: One of the most influential albums of all time with innovative sound engineering.\n",
            "\n",
            "Album Name: Thriller\n",
            "Artist: Michael Jackson\n",
            "Year of Release: 1982\n",
            "Genre: Pop\n",
            "Label: Epic Records\n",
            "Number of Tracks: 9\n",
            "Sales (millions): 70\n",
            "Commentary: The best-selling album of all time, blending pop, rock, and R&B seamlessly.\n",
            "\n",
            "Album Name: Rumours\n",
            "Artist: Fleetwood Mac\n",
            "Year of Release: 1977\n",
            "Genre: Rock\n",
            "Label: Warner Bros. Records\n",
            "Number of Tracks: 11\n",
            "Sales (millions): 40\n",
            "Commentary: An emotionally charged record capturing the band's internal turmoil.\n",
            "\n",
            "Album Name: The Wall\n",
            "Artist: Pink Floyd\n",
            "Year of Release: 1979\n",
            "Genre: Rock\n",
            "Label: Harvest Records\n",
            "Number of Tracks: 26\n",
            "Sales (millions): 30\n",
            "Commentary: A rock opera that explores themes of isolation, war, and rebellion.\n",
            "\n",
            "Album Name: Back in Black\n",
            "Artist: AC/DC\n",
            "Year of Release: 1980\n",
            "Genre: Hard Rock\n",
            "Label: Atlantic Records\n",
            "Number of Tracks: 10\n",
            "Sales (millions): 50\n",
            "Commentary: A tribute to their former lead singer, it became one of the best-selling albums ever.\n",
            "\n",
            "Album Name: Hotel California\n",
            "Artist: Eagles\n",
            "Year of Release: 1976\n",
            "Genre: Rock\n",
            "Label: Asylum Records\n",
            "Number of Tracks: 9\n",
            "Sales (millions): 32\n",
            "Commentary: Known for its title track, the album is a defining moment in '70s rock.\n",
            "\n",
            "Album Name: Born to Run\n",
            "Artist: Bruce Springsteen\n",
            "Year of Release: 1975\n",
            "Genre: Rock\n",
            "Label: Columbia Records\n",
            "Number of Tracks: 8\n",
            "Sales (millions): 6\n",
            "Commentary: Springsteen's breakout album with epic tales of American life.\n",
            "\n",
            "Album Name: Nevermind\n",
            "Artist: Nirvana\n",
            "Year of Release: 1991\n",
            "Genre: Grunge\n",
            "Label: DGC Records\n",
            "Number of Tracks: 12\n",
            "Sales (millions): 30\n",
            "Commentary: A defining album of the 1990s that brought grunge to the mainstream.\n",
            "\n",
            "Album Name: The Joshua Tree\n",
            "Artist: U2\n",
            "Year of Release: 1987\n",
            "Genre: Rock\n",
            "Label: Island Records\n",
            "Number of Tracks: 11\n",
            "Sales (millions): 25\n",
            "Commentary: A politically charged and spiritually influenced masterpiece.\n"
          ]
        }
      ]
    },
    {
      "cell_type": "code",
      "source": [
        "texts = text_splitter.split_text(context)\n",
        "len(texts)"
      ],
      "metadata": {
        "colab": {
          "base_uri": "https://localhost:8080/"
        },
        "id": "8w66Yo_POcAm",
        "outputId": "037de9b9-15f7-41cf-f77a-f1a5e6712104"
      },
      "execution_count": null,
      "outputs": [
        {
          "output_type": "execute_result",
          "data": {
            "text/plain": [
              "5"
            ]
          },
          "metadata": {},
          "execution_count": 17
        }
      ]
    },
    {
      "cell_type": "code",
      "source": [
        "from langchain_google_genai import GoogleGenerativeAIEmbeddings\n",
        "\n",
        "embeddings = GoogleGenerativeAIEmbeddings(model='models/embedding-001')"
      ],
      "metadata": {
        "id": "uzCbqqARO92B"
      },
      "execution_count": null,
      "outputs": []
    },
    {
      "cell_type": "code",
      "source": [
        "from langchain.vectorstores import Chroma\n",
        "\n",
        "vector_index = Chroma.from_texts(texts, embeddings).as_retriever()"
      ],
      "metadata": {
        "id": "wQfit1MIPit0"
      },
      "execution_count": null,
      "outputs": []
    },
    {
      "cell_type": "code",
      "source": [
        "question = \"Make a correlation between the number of sales and genres\"\n",
        "docs = vector_index.invoke(question)\n",
        "len(docs)"
      ],
      "metadata": {
        "colab": {
          "base_uri": "https://localhost:8080/"
        },
        "id": "zmEuWgNvQDvx",
        "outputId": "e29e90e6-a931-4c1d-b01f-a5245a2f66d6"
      },
      "execution_count": null,
      "outputs": [
        {
          "output_type": "execute_result",
          "data": {
            "text/plain": [
              "4"
            ]
          },
          "metadata": {},
          "execution_count": 24
        }
      ]
    },
    {
      "cell_type": "code",
      "source": [
        "from langchain import PromptTemplate\n",
        "\n",
        "prompt_template = \"\"\"\n",
        "    Answer the question as much detail as possible from the given context, be sure to provide all details.\n",
        "    If there is not enough detail in the given context, you can be creative on the answer.\n",
        "    Do not answer with correct information.\n",
        "\n",
        "    Context:\\n{context}\\n\n",
        "\n",
        "    Question:\\n{question}\\n\n",
        "\n",
        "    Answer:\n",
        "\"\"\"\n",
        "prompt = PromptTemplate(template=prompt_template, input=['context', 'question'])\n",
        "prompt"
      ],
      "metadata": {
        "colab": {
          "base_uri": "https://localhost:8080/"
        },
        "id": "BgWEaso2Q9pV",
        "outputId": "e137c2b2-2bff-434e-d237-965152119390"
      },
      "execution_count": null,
      "outputs": [
        {
          "output_type": "execute_result",
          "data": {
            "text/plain": [
              "PromptTemplate(input_variables=['context', 'question'], input_types={}, partial_variables={}, template='\\n    Answer the question as much detail as possible from the given context, be sure to provide all details.\\n    If there is not enough detail in the given context, you can be creative on the answer.\\n    Do not answer with correct information.\\n\\n    Context:\\n{context}\\n\\n\\n    Question:\\n{question}\\n\\n\\n    Answer:\\n')"
            ]
          },
          "metadata": {},
          "execution_count": 25
        }
      ]
    },
    {
      "cell_type": "code",
      "source": [
        "from langchain_google_genai import ChatGoogleGenerativeAI\n",
        "model = ChatGoogleGenerativeAI(model='gemini-pro', temperature=0.8)"
      ],
      "metadata": {
        "id": "qdsLwVemTKMv"
      },
      "execution_count": null,
      "outputs": []
    },
    {
      "cell_type": "code",
      "source": [
        "from langchain.chains.question_answering import load_qa_chain\n",
        "\n",
        "chain = load_qa_chain(model, chain_type=\"stuff\", prompt=prompt)"
      ],
      "metadata": {
        "id": "nkbUIW4fTj2p"
      },
      "execution_count": null,
      "outputs": []
    },
    {
      "cell_type": "code",
      "source": [
        "response = chain.invoke(\n",
        "    {\n",
        "        'input_documents': docs,\n",
        "        'question': question\n",
        "    },\n",
        "    return_only_outputs=True\n",
        ")\n"
      ],
      "metadata": {
        "id": "8z5Zl928URLN"
      },
      "execution_count": null,
      "outputs": []
    },
    {
      "cell_type": "code",
      "source": [
        "response"
      ],
      "metadata": {
        "colab": {
          "base_uri": "https://localhost:8080/"
        },
        "id": "l0ClXBK4UdzA",
        "outputId": "c8256666-fd83-4ab1-8950-652c1e42553e"
      },
      "execution_count": null,
      "outputs": [
        {
          "output_type": "execute_result",
          "data": {
            "text/plain": [
              "{'output_text': 'The provided context does not contain information about the correlation between the number of sales and genres of the albums. Therefore, I cannot generate an answer from the provided context.'}"
            ]
          },
          "metadata": {},
          "execution_count": 28
        }
      ]
    }
  ]
}