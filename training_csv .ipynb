{
  "nbformat": 4,
  "nbformat_minor": 0,
  "metadata": {
    "colab": {
      "provenance": []
    },
    "kernelspec": {
      "name": "python3",
      "display_name": "Python 3"
    },
    "language_info": {
      "name": "python"
    }
  },
  "cells": [
    {
      "cell_type": "code",
      "execution_count": null,
      "metadata": {
        "id": "-mp-sjC50YWY"
      },
      "outputs": [],
      "source": [
        "!pip install -q --upgrade google-generativeai langchain-google-genai python-dotenv"
      ]
    },
    {
      "cell_type": "code",
      "source": [
        "import google.generativeai as genai\n",
        "from google.colab import userdata"
      ],
      "metadata": {
        "id": "taXIBNHT0nLL"
      },
      "execution_count": null,
      "outputs": []
    },
    {
      "cell_type": "code",
      "source": [
        "GOOGLE_API_KEY = userdata.get('GeminiProKey')\n",
        "genai.configure(api_key=GOOGLE_API_KEY)"
      ],
      "metadata": {
        "id": "Fawagdui0oNv"
      },
      "execution_count": null,
      "outputs": []
    },
    {
      "cell_type": "code",
      "source": [
        "!echo -e 'GOOGLE_API_KEY=' > .env"
      ],
      "metadata": {
        "id": "rERPqhMX09s2"
      },
      "execution_count": null,
      "outputs": []
    },
    {
      "cell_type": "code",
      "source": [
        "from dotenv import load_dotenv\n",
        "load_dotenv()"
      ],
      "metadata": {
        "id": "ouPT7kX91Ezo"
      },
      "execution_count": null,
      "outputs": []
    },
    {
      "cell_type": "code",
      "source": [
        "!pip install langchain langchain-community langchain-experimental chromadb pandas"
      ],
      "metadata": {
        "id": "P8MDfi1P1Me4"
      },
      "execution_count": null,
      "outputs": []
    },
    {
      "cell_type": "code",
      "source": [
        "!mkdir files"
      ],
      "metadata": {
        "id": "oe8Erokj8uxL"
      },
      "execution_count": null,
      "outputs": []
    },
    {
      "cell_type": "code",
      "source": [
        "!gdown \"https://drive.google.com/file/d/1vqLfoWdCu-yv1fTiNxzBHB1wU-yNPalc/view?usp=sharing\""
      ],
      "metadata": {
        "id": "6zUMN3kd9Tne"
      },
      "execution_count": null,
      "outputs": []
    },
    {
      "cell_type": "code",
      "source": [
        "import pandas as pd\n",
        "df = pd.read_csv('top_500_albums.csv')\n",
        "df.head()"
      ],
      "metadata": {
        "id": "WygvDaGA9l6f"
      },
      "execution_count": null,
      "outputs": []
    },
    {
      "cell_type": "code",
      "source": [
        "from langchain import PromptTemplate\n",
        "from langchain.chains.question_answering import load_qa_chain\n",
        "from langchain_community.document_loaders import CSVLoader\n",
        "from langchain_experimental.agents.agent_toolkits import create_csv_agent\n",
        "from langchain_google_genai import ChatGoogleGenerativeAI, GoogleGenerativeAIEmbeddings\n",
        "from langchain.text_splitter import RecursiveCharacterTextSplitter\n",
        "from langchain.vectorstores import Chroma"
      ],
      "metadata": {
        "id": "VJ9zJBS6-hvp"
      },
      "execution_count": 41,
      "outputs": []
    },
    {
      "cell_type": "code",
      "source": [
        "loader = CSVLoader(\"top_500_albums.csv\")\n",
        "data = loader.load_and_split()"
      ],
      "metadata": {
        "id": "odd0ORtO_vax"
      },
      "execution_count": 25,
      "outputs": []
    },
    {
      "cell_type": "code",
      "source": [
        "print(data)"
      ],
      "metadata": {
        "id": "AAvjbepA_96b"
      },
      "execution_count": null,
      "outputs": []
    },
    {
      "cell_type": "code",
      "source": [
        "print(data[0].page_content)"
      ],
      "metadata": {
        "id": "yYIk7CQW__pT"
      },
      "execution_count": null,
      "outputs": []
    },
    {
      "cell_type": "code",
      "source": [
        "context = \"\\n\".join(\n",
        "    str(p.page_content) for p in data\n",
        ")"
      ],
      "metadata": {
        "id": "9Y98Je8NAFZn"
      },
      "execution_count": 29,
      "outputs": []
    },
    {
      "cell_type": "code",
      "source": [
        "print(\"The total number of words in the context:\", len(context))"
      ],
      "metadata": {
        "id": "InQHra_1AKOw"
      },
      "execution_count": null,
      "outputs": []
    },
    {
      "cell_type": "code",
      "source": [
        "text_splitter = RecursiveCharacterTextSplitter(chunk_size=15000, chunk_overlap=100)\n",
        "context = \"\\n\\n\".join(\n",
        "    str(p.page_content) for p in data\n",
        ")"
      ],
      "metadata": {
        "id": "Xth301reAMxq"
      },
      "execution_count": 31,
      "outputs": []
    },
    {
      "cell_type": "code",
      "source": [
        "texts = text_splitter.split_text(context)"
      ],
      "metadata": {
        "id": "zcttEdu3APkY"
      },
      "execution_count": 32,
      "outputs": []
    },
    {
      "cell_type": "code",
      "source": [
        "print(len(texts))"
      ],
      "metadata": {
        "id": "IknYq6xtARe6"
      },
      "execution_count": null,
      "outputs": []
    },
    {
      "cell_type": "code",
      "source": [
        "embeddings = GoogleGenerativeAIEmbeddings(model=\"models/embedding-001\")"
      ],
      "metadata": {
        "id": "R-eHA4wzAUfJ"
      },
      "execution_count": 36,
      "outputs": []
    },
    {
      "cell_type": "code",
      "source": [
        "vector_index = Chroma.from_texts(texts, embeddings).as_retriever()"
      ],
      "metadata": {
        "id": "CKPMP0UhAfp9"
      },
      "execution_count": 37,
      "outputs": []
    },
    {
      "cell_type": "code",
      "source": [
        "question = \"Summarize the commentary from all the albums and suggest a new album based on the summary\"\n",
        "docs = vector_index.invoke(question)"
      ],
      "metadata": {
        "id": "rH_KIdwEAka8"
      },
      "execution_count": null,
      "outputs": []
    },
    {
      "cell_type": "code",
      "source": [
        "docs"
      ],
      "metadata": {
        "id": "VQp08qMUAwPZ"
      },
      "execution_count": null,
      "outputs": []
    },
    {
      "cell_type": "code",
      "source": [
        "prompt_template = \"\"\"\n",
        "    Responda a questão o mais detalhado possível a partir do contexto dado, tenha certeza de prover todos os detalhes.\n",
        "    Se não há detalhes suficientes no contexto provido, você pode gerar respostas criativas.\n",
        "    Não responda com informações erradas.\\n\\n\n",
        "    Context:\\n {context}?\\n\n",
        "    Question: \\n{question}\\n\n",
        "\n",
        "    Answer:\n",
        "\"\"\"\n",
        "prompt = PromptTemplate(template=prompt_template, input_variables=['context', 'question'])"
      ],
      "metadata": {
        "id": "s74EajlCA2oV"
      },
      "execution_count": 65,
      "outputs": []
    },
    {
      "cell_type": "code",
      "source": [
        "model = ChatGoogleGenerativeAI(model=\"gemini-pro\", temperature=0.8)"
      ],
      "metadata": {
        "id": "4dnq0ZwPBC9Y"
      },
      "execution_count": 68,
      "outputs": []
    },
    {
      "cell_type": "code",
      "source": [
        "chain = load_qa_chain(model, chain_type=\"stuff\", prompt=prompt)"
      ],
      "metadata": {
        "id": "aNF1nfPsBJOJ"
      },
      "execution_count": 69,
      "outputs": []
    },
    {
      "cell_type": "code",
      "source": [
        "response = chain(\n",
        "    {\n",
        "        \"input_documents\": docs,\n",
        "        \"question\": question\n",
        "    },\n",
        "    return_only_outputs=True\n",
        ")"
      ],
      "metadata": {
        "id": "fLTjTLkJBK_U"
      },
      "execution_count": 70,
      "outputs": []
    },
    {
      "cell_type": "code",
      "source": [
        "response[\"output_text\"]"
      ],
      "metadata": {
        "colab": {
          "base_uri": "https://localhost:8080/",
          "height": 244
        },
        "collapsed": true,
        "id": "01AU0vZCBSX8",
        "outputId": "314a9cad-85f4-4d17-ef7d-6ee5bd13d663"
      },
      "execution_count": 71,
      "outputs": [
        {
          "output_type": "execute_result",
          "data": {
            "text/plain": [
              "'**Resumo dos Comentários:**\\n\\nOs álbuns apresentados são clássicos atemporais que demonstraram o auge criativo de seus artistas. Eles oferecem uma gama diversificada de gêneros, incluindo rock, rock progressivo, pop, hard rock e grunge. Esses álbuns influenciaram profundamente a música e a cultura popular, apresentando inovações em engenharia de som, narrativa envolvente e exploração de temas profundos.\\n\\n**Sugestão de Novo Álbum:**\\n\\nCom base nos resumos fornecidos, um novo álbum poderia abranger os seguintes aspectos:\\n\\n* **Gênero:** Rock Progressivo\\n* **Artista:** Uma nova banda ou artista emergente com uma perspectiva única e inovadora.\\n* **Título do Álbum:** \"Ecos do Cosmos\"\\n* **Tema:** Explorar as vastas extensões do universo, contemplando questões de existência, mistério e o lugar da humanidade no cosmos.\\n* **Estilo:** Uma fusão de rock progressivo com elementos de música eletrônica e influências étnicas, criando uma paisagem sonora imersiva e atmosférica.\\n* **Narrativa:** Um conceito que viaja por diferentes planetas e galáxias, testemunhando as maravilhas e desafios que eles apresentam.\\n* **Influências:** Os álbuns \"The Dark Side of the Moon\" (Pink Floyd) e \"The Joshua Tree\" (U2) por sua exploração de temas cósmicos e espirituais.\\n\\nEste novo álbum visaria transcender as fronteiras musicais e criar uma experiência auditiva que transportasse os ouvintes para as profundezas do espaço, inspirando admiração, reflexão e uma conexão mais profunda com o nosso lugar no universo.'"
            ],
            "application/vnd.google.colaboratory.intrinsic+json": {
              "type": "string"
            }
          },
          "metadata": {},
          "execution_count": 71
        }
      ]
    }
  ]
}