{
  "nbformat": 4,
  "nbformat_minor": 0,
  "metadata": {
    "colab": {
      "provenance": [],
      "include_colab_link": true
    },
    "kernelspec": {
      "name": "python3",
      "display_name": "Python 3"
    },
    "language_info": {
      "name": "python"
    }
  },
  "cells": [
    {
      "cell_type": "markdown",
      "metadata": {
        "id": "view-in-github",
        "colab_type": "text"
      },
      "source": [
        "<a href=\"https://colab.research.google.com/github/yurisalesc/langchain-gemini-notebooks/blob/main/chat_with_multi_docs.ipynb\" target=\"_parent\"><img src=\"https://colab.research.google.com/assets/colab-badge.svg\" alt=\"Open In Colab\"/></a>"
      ]
    },
    {
      "cell_type": "code",
      "execution_count": null,
      "metadata": {
        "id": "twiyMwT4wR8Q"
      },
      "outputs": [],
      "source": [
        "!pip install -q --upgrade google-generativeai langchain-google-genai python-dotenv"
      ]
    },
    {
      "cell_type": "code",
      "source": [
        "import google.generativeai as genai"
      ],
      "metadata": {
        "id": "NEPFerANwfOn"
      },
      "execution_count": null,
      "outputs": []
    },
    {
      "cell_type": "code",
      "source": [
        "import textwrap\n",
        "\n",
        "from dotenv import load_dotenv\n",
        "from google.colab import userdata\n",
        "from IPython.display import display, Markdown"
      ],
      "metadata": {
        "id": "LZlTyfmGwqE6"
      },
      "execution_count": null,
      "outputs": []
    },
    {
      "cell_type": "code",
      "source": [
        "GOOGLE_API_KEY = userdata.get('GeminiProKey')\n",
        "genai.configure(api_key=GOOGLE_API_KEY)"
      ],
      "metadata": {
        "id": "vP117ihHxNRT"
      },
      "execution_count": null,
      "outputs": []
    },
    {
      "cell_type": "code",
      "source": [
        "!echo -e 'GOOGLE_API_KEY=' > .env"
      ],
      "metadata": {
        "id": "G-Df3wLOx97j"
      },
      "execution_count": null,
      "outputs": []
    },
    {
      "cell_type": "code",
      "source": [
        "!ls -a"
      ],
      "metadata": {
        "collapsed": true,
        "id": "iQihkxE-yIxG"
      },
      "execution_count": null,
      "outputs": []
    },
    {
      "cell_type": "code",
      "source": [
        "load_dotenv()"
      ],
      "metadata": {
        "id": "fRHuh9pryP1w"
      },
      "execution_count": null,
      "outputs": []
    },
    {
      "cell_type": "code",
      "source": [
        "def to_markdown(text):\n",
        "    return Markdown(textwrap.indent(text, '>', predicate=lambda _: True))"
      ],
      "metadata": {
        "id": "5Uq-4bWgyTrb"
      },
      "execution_count": null,
      "outputs": []
    },
    {
      "cell_type": "code",
      "source": [
        "for model in genai.list_models():\n",
        "    if 'generateContent' in model.supported_generation_methods:\n",
        "        print(model.name)"
      ],
      "metadata": {
        "id": "Hp1bXZ8-1Sln"
      },
      "execution_count": null,
      "outputs": []
    },
    {
      "cell_type": "code",
      "source": [
        "model = genai.GenerativeModel('gemini-1.5-pro-latest')"
      ],
      "metadata": {
        "id": "o_u2Oohy1eX_"
      },
      "execution_count": null,
      "outputs": []
    },
    {
      "cell_type": "code",
      "source": [
        "%%time\n",
        "response = model.generate_content(\"What are the mayor candidates for São Paulo, Brazil in 2024 elections?\")"
      ],
      "metadata": {
        "id": "9_M5Ypds1pY7"
      },
      "execution_count": null,
      "outputs": []
    },
    {
      "cell_type": "code",
      "source": [
        "response"
      ],
      "metadata": {
        "id": "qNr9aX-D14qK"
      },
      "execution_count": null,
      "outputs": []
    },
    {
      "cell_type": "code",
      "source": [
        "response.text"
      ],
      "metadata": {
        "id": "S-GQkihV2ONE"
      },
      "execution_count": null,
      "outputs": []
    },
    {
      "cell_type": "code",
      "source": [
        "to_markdown(response.text)"
      ],
      "metadata": {
        "id": "tbS0zMP52Rta"
      },
      "execution_count": null,
      "outputs": []
    },
    {
      "cell_type": "code",
      "source": [
        "from langchain_google_genai import ChatGoogleGenerativeAI"
      ],
      "metadata": {
        "id": "BKg_JaoU2flS"
      },
      "execution_count": null,
      "outputs": []
    },
    {
      "cell_type": "code",
      "source": [
        "llm = ChatGoogleGenerativeAI(model='gemini-pro')"
      ],
      "metadata": {
        "id": "pCdDBfz-2jhm"
      },
      "execution_count": null,
      "outputs": []
    },
    {
      "cell_type": "code",
      "source": [
        "result = llm.invoke('What are the last 10 USA presidents?')"
      ],
      "metadata": {
        "id": "ZdjQ4HPd2oDk"
      },
      "execution_count": null,
      "outputs": []
    },
    {
      "cell_type": "code",
      "source": [
        "to_markdown(result.content)"
      ],
      "metadata": {
        "id": "grcTuFRQ2xT1"
      },
      "execution_count": null,
      "outputs": []
    },
    {
      "cell_type": "code",
      "source": [
        "import io\n",
        "import numpy as np\n",
        "import requests\n",
        "from PIL import Image\n",
        "\n",
        "\n",
        "def show_image(url):\n",
        "    response = requests.get(url)\n",
        "    image = Image.open(io.BytesIO(response.content))\n",
        "    image.load()\n",
        "    display(image)\n",
        "\n",
        "\n",
        "show_image(\"https://images.foxtv.com/static.fox5dc.com/www.fox5dc.com/content/uploads/2024/09/764/432/trump-ai.jpg\")"
      ],
      "metadata": {
        "id": "HfTNRiNA25q3"
      },
      "execution_count": null,
      "outputs": []
    },
    {
      "cell_type": "code",
      "source": [
        "from langchain_core.messages import HumanMessage\n",
        "from langchain_google_genai import ChatGoogleGenerativeAI\n",
        "\n",
        "llm = ChatGoogleGenerativeAI(model=\"gemini-1.5-flash\")\n",
        "\n",
        "message = HumanMessage(\n",
        "    content=[\n",
        "        {\n",
        "            \"type\": \"text\",\n",
        "            \"text\": \"Write a blog post based on this image\",\n",
        "        },\n",
        "        {\n",
        "            \"type\": \"image_url\",\n",
        "            \"image_url\": \"https://images.foxtv.com/static.fox5dc.com/www.fox5dc.com/content/uploads/2024/09/764/432/trump-ai.jpg\"\n",
        "        }\n",
        "    ]\n",
        ")"
      ],
      "metadata": {
        "id": "PLi1t_5S71kS"
      },
      "execution_count": null,
      "outputs": []
    },
    {
      "cell_type": "code",
      "source": [
        "llm.invoke([message])"
      ],
      "metadata": {
        "id": "sJZpaw7q8q61"
      },
      "execution_count": null,
      "outputs": []
    },
    {
      "cell_type": "code",
      "source": [
        "!pip install langchain\n",
        "!pip install langchain-community\n",
        "!pip install pypdf\n",
        "!pip install chromadb"
      ],
      "metadata": {
        "id": "MaBaTBFD9rAW"
      },
      "execution_count": null,
      "outputs": []
    },
    {
      "cell_type": "code",
      "source": [
        "from langchain import PromptTemplate\n",
        "from langchain.chains.question_answering import load_qa_chain\n",
        "from langchain.document_loaders import PyPDFDirectoryLoader\n",
        "from langchain.text_splitter import RecursiveCharacterTextSplitter\n",
        "from langchain.vectorstores import Chroma"
      ],
      "metadata": {
        "id": "rmkmEy_v96D-"
      },
      "execution_count": null,
      "outputs": []
    },
    {
      "cell_type": "code",
      "source": [
        "!mkdir pdfs"
      ],
      "metadata": {
        "id": "ezuF3MAL-hWr"
      },
      "execution_count": null,
      "outputs": []
    },
    {
      "cell_type": "code",
      "source": [
        "!gdown \"https://drive.google.com/uc?id=11cCngMwrOHFLbzHRfu6UTvWhFEAN17X3\""
      ],
      "metadata": {
        "id": "Nubdbnkb-lFV"
      },
      "execution_count": null,
      "outputs": []
    },
    {
      "cell_type": "code",
      "source": [
        "loader = PyPDFDirectoryLoader(\"pdfs\")\n",
        "data = loader.load_and_split()"
      ],
      "metadata": {
        "id": "0oMrUZmfDayr"
      },
      "execution_count": null,
      "outputs": []
    },
    {
      "cell_type": "code",
      "source": [
        "print(data)"
      ],
      "metadata": {
        "id": "_6CLn9q5Gv4S"
      },
      "execution_count": null,
      "outputs": []
    },
    {
      "cell_type": "code",
      "source": [
        "print(data[3].page_content)"
      ],
      "metadata": {
        "id": "ucMU_6HRH5bz"
      },
      "execution_count": null,
      "outputs": []
    },
    {
      "cell_type": "code",
      "source": [
        "context = \"\\n\".join(\n",
        "    str(p.page_content) for p in data\n",
        ")"
      ],
      "metadata": {
        "id": "zw5e55deH_dC"
      },
      "execution_count": null,
      "outputs": []
    },
    {
      "cell_type": "code",
      "source": [
        "print(\"The total number of words in the context:\", len(context))"
      ],
      "metadata": {
        "id": "Cznm9glUILAm"
      },
      "execution_count": null,
      "outputs": []
    },
    {
      "cell_type": "code",
      "source": [
        "text_splitter = RecursiveCharacterTextSplitter(chunk_size=15000, chunk_overlap=100)\n",
        "context = \"\\n\\n\".join(\n",
        "    str(p.page_content) for p in data\n",
        ")"
      ],
      "metadata": {
        "id": "TJ0n0i5VIe3K"
      },
      "execution_count": null,
      "outputs": []
    },
    {
      "cell_type": "code",
      "source": [
        "texts = text_splitter.split_text(context)"
      ],
      "metadata": {
        "id": "oXANcphpIsBi"
      },
      "execution_count": null,
      "outputs": []
    },
    {
      "cell_type": "code",
      "source": [
        "print(len(texts))"
      ],
      "metadata": {
        "id": "bH17NSLFIvk-"
      },
      "execution_count": null,
      "outputs": []
    },
    {
      "cell_type": "code",
      "source": [
        "texts[1]"
      ],
      "metadata": {
        "id": "cpINs9m3I4FL"
      },
      "execution_count": null,
      "outputs": []
    },
    {
      "cell_type": "code",
      "source": [
        "from langchain_google_genai import GoogleGenerativeAIEmbeddings"
      ],
      "metadata": {
        "id": "yxsi_hJXI87v"
      },
      "execution_count": null,
      "outputs": []
    },
    {
      "cell_type": "code",
      "source": [
        "embeddings = GoogleGenerativeAIEmbeddings(model=\"models/embedding-001\")"
      ],
      "metadata": {
        "id": "GcWoVv0iJEoh"
      },
      "execution_count": null,
      "outputs": []
    },
    {
      "cell_type": "code",
      "source": [
        "vector_index = Chroma.from_texts(texts, embeddings).as_retriever()"
      ],
      "metadata": {
        "id": "d_Fppe7iJLO4"
      },
      "execution_count": null,
      "outputs": []
    },
    {
      "cell_type": "code",
      "source": [
        "question = \"Por que o não há calculo econômico no socialismo?\"\n",
        "docs = vector_index.invoke(question)"
      ],
      "metadata": {
        "id": "wjePzk3-JRZq"
      },
      "execution_count": null,
      "outputs": []
    },
    {
      "cell_type": "code",
      "source": [
        "docs"
      ],
      "metadata": {
        "id": "4p19kJUWJgbl"
      },
      "execution_count": null,
      "outputs": []
    },
    {
      "cell_type": "code",
      "source": [
        "prompt_template = \"\"\"\n",
        "    Responda a questão o mais detalhado possível a partir do contexto dado, tenha certeza de prover todos os detalhes.\n",
        "    Se não detalhes suficientes no contexto provido, apenas responda \"Resposta não disponível no contexto\".\n",
        "    Não responda com informações erradas.\\n\\n\n",
        "    Context:\\n {context}?\\n\n",
        "    Question: \\n{question}\\n\n",
        "\n",
        "    Answer:\n",
        "\"\"\"\n",
        "prompt = PromptTemplate(template=prompt_template, input_variables=['context', 'question'])"
      ],
      "metadata": {
        "id": "Unfj8cvDJ0nR"
      },
      "execution_count": null,
      "outputs": []
    },
    {
      "cell_type": "code",
      "source": [
        "from langchain_google_genai import ChatGoogleGenerativeAI\n",
        "model = ChatGoogleGenerativeAI(model=\"gemini-pro\", temperature=0.8)"
      ],
      "metadata": {
        "id": "o0DTw9M4K3Po"
      },
      "execution_count": null,
      "outputs": []
    },
    {
      "cell_type": "code",
      "source": [
        "chain = load_qa_chain(model, chain_type=\"stuff\", prompt=prompt)"
      ],
      "metadata": {
        "id": "B983N1_MLGKC"
      },
      "execution_count": null,
      "outputs": []
    },
    {
      "cell_type": "code",
      "source": [
        "response = chain(\n",
        "    {\n",
        "        \"input_documents\": docs,\n",
        "        \"question\": question\n",
        "    },\n",
        "    return_only_outputs=True\n",
        ")"
      ],
      "metadata": {
        "id": "S6-p0oxtLivt"
      },
      "execution_count": null,
      "outputs": []
    },
    {
      "cell_type": "code",
      "source": [
        "response"
      ],
      "metadata": {
        "id": "tCvmUSrwLt-1"
      },
      "execution_count": null,
      "outputs": []
    }
  ]
}